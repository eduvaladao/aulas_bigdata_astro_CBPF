{
  "nbformat": 4,
  "nbformat_minor": 0,
  "metadata": {
    "colab": {
      "provenance": [],
      "collapsed_sections": [],
      "include_colab_link": true
    },
    "kernelspec": {
      "name": "python3",
      "display_name": "Python 3"
    },
    "accelerator": "GPU"
  },
  "cells": [
    {
      "cell_type": "markdown",
      "metadata": {
        "id": "view-in-github",
        "colab_type": "text"
      },
      "source": [
        "<a href=\"https://colab.research.google.com/github/eduvaladao/aulas_bigdata_astro_CBPF/blob/main/aula07_Escola_CBPF_LensLoadx_dataDetectNetDenoising.ipynb\" target=\"_parent\"><img src=\"https://colab.research.google.com/assets/colab-badge.svg\" alt=\"Open In Colab\"/></a>"
      ]
    },
    {
      "cell_type": "markdown",
      "metadata": {
        "id": "VJwcQrEjJpC5"
      },
      "source": [
        "# **Project Colab LensDetectNet**\n",
        "\n",
        "---\n",
        "\n",
        "**Convolutional Neural Network to Detect Lens in Image .fits**\n",
        "\n",
        "---\n",
        "\n",
        "\n",
        "\n"
      ]
    },
    {
      "cell_type": "code",
      "metadata": {
        "id": "T0k8C-sUx0_V"
      },
      "source": [
        "#install libraries\n",
        "#%matplotlib inline\n",
        "!apt-get -y install -qq graphviz\n",
        "!pip install -U -q astropy\n",
        "!pip install -U -q pydot\n",
        "!pip install -U -q pydot_ng\n",
        "!pip install -U -q graphviz\n",
        "!pip install -U -q imgaug==0.2.6\n",
        "!pip install -U -q scipy==1.2.1"
      ],
      "execution_count": null,
      "outputs": []
    },
    {
      "cell_type": "code",
      "metadata": {
        "id": "aAOB_BFmGBuk"
      },
      "source": [
        "# import libraries\n",
        "import matplotlib.pyplot as plt\n",
        "import pandas as pd # data processing, CSV file I/O (e.g. pd.read_csv)\n",
        "import numpy as np\n",
        "import pylab as py\n",
        "import cv2\n",
        "import h5py\n",
        "\n",
        "import scipy.misc\n",
        "import warnings\n",
        "import os\n",
        "from tensorflow import keras# import tensorflow.keras\n",
        "import pydot\n",
        "import pydot_ng\n",
        "import time\n",
        "import tensorflow as tf\n",
        "import timeit\n",
        "import matplotlib.pyplot as plt\n",
        "\n",
        "\n",
        "from google.colab import drive\n",
        "from google.colab import files\n",
        "from astropy.io import fits\n",
        "from tensorflow.keras import models\n",
        "from tensorflow.keras.models import Sequential\n",
        "from tensorflow.keras import layers\n",
        "from tensorflow.keras.layers import Convolution2D\n",
        "from tensorflow.keras.layers import MaxPooling2D\n",
        "from tensorflow.keras.layers import Dense, Dropout, Flatten, Activation\n",
        "from keras.layers.normalization import BatchNormalization\n",
        "from sklearn.preprocessing import LabelEncoder,OneHotEncoder\n",
        "from tensorflow.keras.utils import plot_model\n",
        "from IPython.display import Image, display\n",
        "from tensorflow.keras import backend as K\n",
        "from tensorflow.keras.preprocessing import image\n",
        "from tensorflow.keras.optimizers import SGD\n",
        "from tensorflow.keras.utils import to_categorical\n",
        "from sklearn.preprocessing import label_binarize\n",
        "from sklearn.model_selection import StratifiedKFold\n",
        "from tensorflow.keras.preprocessing.image import ImageDataGenerator\n",
        "# from tensorflow.keras.utils import to_categorical\n",
        "from tensorflow.keras.callbacks import EarlyStopping, ModelCheckpoint, ReduceLROnPlateau, CSVLogger\n",
        "from sklearn.metrics import roc_curve\n",
        "from sklearn.metrics import roc_auc_score\n",
        "from matplotlib import pyplot\n",
        "# from tensorflow.keras.utils import to_categorical\n",
        "# from sklearn.metrics import roc_curve\n",
        "# from sklearn.metrics import roc_auc_score\n",
        "\n",
        "\n",
        "from tensorflow.keras.applications.resnet50 import ResNet50\n",
        "\n",
        "warnings.filterwarnings(\"ignore\")\n",
        "\n",
        "\n",
        "\n"
      ],
      "execution_count": null,
      "outputs": []
    },
    {
      "cell_type": "markdown",
      "metadata": {
        "id": "YfOT4KT_OONE"
      },
      "source": [
        "# **Mount drive for save outputs**\n",
        "**Let drive mount on your google drive and copy the code, go to colab and paste the code there**"
      ]
    },
    {
      "cell_type": "code",
      "metadata": {
        "id": "5rq-S4q5OMDh"
      },
      "source": [
        "\n",
        "drive.mount(\"/content/gdrive\", force_remount=True) # /content/gdrive/"
      ],
      "execution_count": null,
      "outputs": []
    },
    {
      "cell_type": "markdown",
      "metadata": {
        "id": "S9kxEidrqo9Y"
      },
      "source": [
        "# **Download lensdata**\n",
        "**from: https://clearnightsrthebest.com/deep-learning-minicourse/**"
      ]
    },
    {
      "cell_type": "code",
      "metadata": {
        "id": "YEpt8ysoTCVb"
      },
      "source": [
        "%cd \"/content\"\n",
        "!ls\n",
        "import os.path\n",
        "if os.path.exists('lensdata'):   \n",
        "   %cd lensdata\n",
        "   !ls\n",
        "else:     \n",
        "   !wget https://clearskiesrbest.files.wordpress.com/2019/02/lensdata.zip\n",
        "   !unzip lensdata.zip   \n",
        "   !tar -vzxf lensdata.tar.gz\n",
        "   !rm -rf lensdata.tar.gz\n",
        "   !rm -rf lensdata.zip\n",
        "   %cd lensdata\n",
        "   !ls\n",
        "   !tar -vzxf DataVisualization.tar.gz\n",
        "   !tar -vzxf x_data20000fits.h5.tar.gz   \n",
        "   !rm -rf DataVisualization.tar.gz\n",
        "   !rm -rf x_data20000fits.h5.tar.gz      \n",
        "   !ls\n"
      ],
      "execution_count": null,
      "outputs": []
    },
    {
      "cell_type": "markdown",
      "metadata": {
        "id": "yCt_km7dEmez"
      },
      "source": [
        "  \n",
        "\n",
        "---\n",
        "\n",
        "\n",
        "  # **Exemple Visualization Image Lens**\n",
        "\n",
        "\n",
        "\n",
        "\n",
        "---\n",
        "\n",
        "\n",
        "\n",
        "\n"
      ]
    },
    {
      "cell_type": "code",
      "metadata": {
        "id": "OiqueKGTkh1u"
      },
      "source": [
        "%cd \"/content/lensdata/DataVisualization\"\n",
        "nmbimg = '119819' # idx images fits"
      ],
      "execution_count": null,
      "outputs": []
    },
    {
      "cell_type": "code",
      "metadata": {
        "id": "uDU0k46EfbJC"
      },
      "source": [
        "# Example imadjust and denoising\n",
        "\n",
        "import bisect\n",
        "\n",
        "vout = (0,255)\n",
        "def imadjust(src, tol=0.5, vin=[0,255], vout=vout):\n",
        "    # src : input one-layer image (numpy array)\n",
        "    # tol : tolerance, from 0 to 100.\n",
        "    # vin  : src image bounds\n",
        "    # vout : dst image bounds\n",
        "    # return : output img\n",
        "\n",
        "    dst = src.copy()\n",
        "    tol = max(0, min(100, tol))\n",
        "\n",
        "    if tol > 0:\n",
        "        # Compute in and out limits\n",
        "        # Histogram\n",
        "        hist = np.zeros(256, dtype=np.int)\n",
        "        for r in range(src.shape[0]):\n",
        "            for c in range(src.shape[1]):\n",
        "                hist[src[r,c]] += 1\n",
        "        # Cumulative histogram\n",
        "        cum = hist.copy()\n",
        "        for i in range(1, len(hist)):\n",
        "            cum[i] = cum[i - 1] + hist[i]\n",
        "\n",
        "        # Compute bounds\n",
        "        total = src.shape[0] * src.shape[1]\n",
        "        low_bound = total * tol / 100\n",
        "        upp_bound = total * (100 - tol) / 100\n",
        "        vin[0] = bisect.bisect_left(cum, low_bound)\n",
        "        vin[1] = bisect.bisect_left(cum, upp_bound)\n",
        "\n",
        "    # Stretching\n",
        "    if (vin[1] - vin[0]) > 0:\n",
        "        scale = (vout[1] - vout[0]) / (vin[1] - vin[0])\n",
        "    else:\n",
        "        scale = 0\n",
        "        \n",
        "    for r in range(dst.shape[0]):\n",
        "        for c in range(dst.shape[1]):\n",
        "            vs = max(src[r,c] - vin[0], 0)\n",
        "            vd = min(int(vs * scale + 0.5) + vout[0], vout[1])\n",
        "            dst[r,c] = vd\n",
        "    return dst\n",
        "  \n",
        "\n",
        "idximg = 'imageSDSS_'\n",
        "image_fileG = idximg + 'G' + '-' + nmbimg + '.fits'\n",
        "fits.info(image_fileG)\n",
        "image_dataG = fits.getdata(image_fileG, ext=0)\n",
        "image_dataG= np.float32(image_dataG)\n",
        "image_dataG = cv2.normalize(image_dataG, None, 0, 255, cv2.NORM_MINMAX)\n",
        "image_dataG = np.uint8(image_dataG)\n",
        "image_dataGi = imadjust(image_dataG)\n",
        "image_dataG = cv2.fastNlMeansDenoising(image_dataGi,None,30,7,21)\n",
        "print(image_dataG.shape)\n",
        "\n",
        "\n",
        "image_fileR =  idximg + 'R' + '-' + nmbimg + '.fits'\n",
        "fits.info(image_fileR)\n",
        "image_dataR = fits.getdata(image_fileR, ext=0)\n",
        "image_dataR= np.float32(image_dataR)\n",
        "image_dataR = cv2.normalize(image_dataR, None, 0, 255, cv2.NORM_MINMAX)\n",
        "image_dataR = np.uint8(image_dataR)\n",
        "image_dataRi = imadjust(image_dataR)\n",
        "image_dataR = cv2.fastNlMeansDenoising(image_dataRi,None,30,7,21)\n",
        "print(image_dataR.shape)\n",
        "\n",
        "\n",
        "image_fileI = idximg + 'I' + '-' + nmbimg + '.fits'\n",
        "fits.info(image_fileI)\n",
        "image_dataI = fits.getdata(image_fileI, ext=0)\n",
        "image_dataI= np.float32(image_dataI)\n",
        "image_dataI = cv2.normalize(image_dataI, None, 0, 255, cv2.NORM_MINMAX)\n",
        "image_dataI = np.uint8(image_dataI)\n",
        "image_dataIi = imadjust(image_dataI)\n",
        "image_dataI = cv2.fastNlMeansDenoising(image_dataIi,None,30,7,21)\n",
        "print(image_dataI.shape)\n",
        "\n",
        "# for image rgb only imadjust\n",
        "img = np.zeros([image_dataG.shape[1],image_dataG.shape[1],3])\n",
        "img.shape\n",
        "img[:,:,0] = image_dataIi\n",
        "img[:,:,1] = image_dataRi\n",
        "img[:,:,2] = image_dataGi\n",
        "rgb = scipy.misc.toimage(img)\n",
        "rgbi = np.array(rgb)\n",
        "\n",
        "\n",
        "# for image rgb with imadjust and denoising\n",
        "img = np.zeros([image_dataG.shape[1],image_dataG.shape[1],3])\n",
        "img.shape\n",
        "img[:,:,0] = image_dataI\n",
        "img[:,:,1] = image_dataR\n",
        "img[:,:,2] = image_dataG\n",
        "rgb = scipy.misc.toimage(img)\n",
        "rgb = np.array(rgb)\n",
        "\n",
        "\n",
        "plt.figure(1)\n",
        "plt.subplot(141)\n",
        "plt.imshow(image_dataGi, cmap='gray')\n",
        "plt.title('Channel G')\n",
        "plt.grid(False)\n",
        "plt.subplot(142)\n",
        "plt.imshow(image_dataRi, cmap='gray')\n",
        "plt.title('Channel R')\n",
        "plt.grid(False)\n",
        "plt.subplot(143)\n",
        "plt.imshow(image_dataIi, cmap='gray')\n",
        "plt.title('Channel I')\n",
        "plt.grid(False)\n",
        "plt.subplot(144)\n",
        "plt.imshow(rgbi)\n",
        "plt.title('Result RGB')\n",
        "plt.grid(False)\n",
        "plt.savefig(\"imageSDSSImadjust.png\")\n",
        "\n",
        "plt.figure(2)\n",
        "plt.subplot(141)\n",
        "plt.imshow(image_dataG, cmap='gray')\n",
        "plt.title('Channel G')\n",
        "plt.grid(False)\n",
        "plt.subplot(142)\n",
        "plt.imshow(image_dataR, cmap='gray')\n",
        "plt.title('Channel R')\n",
        "plt.grid(False)\n",
        "plt.subplot(143)\n",
        "plt.imshow(image_dataI, cmap='gray')\n",
        "plt.title('Channel I')\n",
        "plt.grid(False)\n",
        "plt.subplot(144)\n",
        "plt.imshow(rgb)\n",
        "plt.title('Result RGB')\n",
        "plt.grid(False)\n",
        "plt.savefig(\"imageSDSSImadandDenoise.png\")\n",
        "\n",
        "\n",
        "img = np.zeros([image_dataG.shape[1],image_dataG.shape[1],3])\n",
        "img.shape\n",
        "img[:,:,0] = image_dataI\n",
        "img[:,:,1] = image_dataR\n",
        "img[:,:,2] = image_dataG\n",
        "rgb = scipy.misc.toimage(img)\n",
        "rgb = np.array(rgb)\n",
        "\n",
        "\n"
      ],
      "execution_count": null,
      "outputs": []
    },
    {
      "cell_type": "markdown",
      "metadata": {
        "id": "kaM2fm-9cOvH"
      },
      "source": [
        "# Load data labels y_data"
      ]
    },
    {
      "cell_type": "code",
      "metadata": {
        "id": "WAAwLC-dlDc7"
      },
      "source": [
        "%cd \"/content/lensdata\" \n",
        "!ls\n",
        "PATH = os.getcwd()\n",
        "y_path = PATH+'/'\n",
        "y_batch = os.listdir(y_path)\n",
        "# Importing labels\n",
        "labels = pd.read_csv('y_data20000fits.csv',delimiter=',', header=None)#, header=-1)\n",
        "\n",
        "y_data = np.array(labels, np.uint8)\n",
        "\n",
        "#y_data = y_data[:,1]\n",
        "#print(y_data[0,:])\n",
        "\n",
        "y_data.shape\n",
        "\n"
      ],
      "execution_count": null,
      "outputs": []
    },
    {
      "cell_type": "markdown",
      "metadata": {
        "id": "0cOPDf1tlGno"
      },
      "source": [
        "# **Load x_data**\n",
        "\n",
        "\n",
        "\n"
      ]
    },
    {
      "cell_type": "code",
      "metadata": {
        "id": "oQ9YXIUEG3Ai"
      },
      "source": [
        "## load x_data\n",
        "import h5py\n",
        "\n",
        "x_datasaved = h5py.File('x_data20000fits.h5', 'r')\n",
        "x_data = x_datasaved['data']\n",
        "print(x_data.shape)\n",
        "\n",
        "# change shape\n",
        "x_data = np.moveaxis(x_data, -1, 0) \n",
        "x_data = np.moveaxis(x_data, -3, 0)\n",
        "print(x_data.shape)"
      ],
      "execution_count": null,
      "outputs": []
    },
    {
      "cell_type": "markdown",
      "metadata": {
        "id": "eQUwiaPMDfPr"
      },
      "source": [
        "# ** Preprocessing  data**\n",
        "\n",
        "\n",
        "Training, test and validation data"
      ]
    },
    {
      "cell_type": "code",
      "metadata": {
        "id": "9g42LZ8M-Uqb"
      },
      "source": [
        "pVal = x_data.shape[0] / 100 * 10 # 10% data to validation \n",
        "x_val = x_data[1:int(pVal)+1,:,:,:]\n",
        "\n",
        "ptest = pVal * 3 # 30% data to test\n",
        "x_test = x_data[int(pVal)+2:(int(pVal)+2)+int(ptest)+1,:,:,:]\n",
        "\n",
        "x_train = x_data[int(ptest+pVal):x_data.shape[0],:,:,:]\n",
        "#x_train = x_data\n",
        "#print(x_val)\n",
        "print('Shape x ...')\n",
        "print(x_val.shape)\n",
        "print(x_test.shape)\n",
        "print(x_train.shape)\n",
        "\n",
        "y_val = y_data[1:int(pVal)+1,0]\n",
        "\n",
        "y_test = y_data[int(pVal)+2:(int(pVal)+2)+int(ptest)+1,0]\n",
        "\n",
        "y_train = y_data[int(ptest+pVal):x_data.shape[0],0]\n",
        " \n",
        "print('Shape y ...')\n",
        "print(y_val.shape)\n",
        "print(y_test.shape)\n",
        "print(y_train.shape)"
      ],
      "execution_count": null,
      "outputs": []
    },
    {
      "cell_type": "markdown",
      "metadata": {
        "id": "hnHDeq5vBvyI"
      },
      "source": [
        "# Create Model Sequential"
      ]
    },
    {
      "cell_type": "code",
      "metadata": {
        "id": "tBXYgIf1fxjy"
      },
      "source": [
        "model = Sequential()\n",
        "\n",
        "\n",
        "model.add(Convolution2D(64, (3, 3), input_shape=(x_data.shape[1],101,101), data_format='channels_first'))\n",
        "model.add(BatchNormalization())\n",
        "model.add(Activation('relu'))\n",
        "model.add(MaxPooling2D(pool_size=(2, 2)))\n",
        "\n",
        "model.add(Convolution2D(128, (3, 3), data_format='channels_first')) \n",
        "model.add(BatchNormalization())\n",
        "model.add(Activation('relu'))\n",
        "model.add(MaxPooling2D(pool_size=(2, 2)))\n",
        "\n",
        "model.add(Convolution2D(256, (3, 3), data_format='channels_first')) \n",
        "model.add(BatchNormalization())\n",
        "model.add(Activation('relu'))\n",
        "model.add(MaxPooling2D(pool_size=(2, 2)))\n",
        "\n",
        "model.add(Convolution2D(512, (3, 3), data_format='channels_first')) \n",
        "model.add(BatchNormalization())\n",
        "model.add(Activation('relu'))\n",
        "model.add(MaxPooling2D(pool_size=(2, 2)))\n",
        "\n",
        "#model.add(Dropout(0.5)) # 0.2\n",
        "model.add(Flatten())\n",
        "\n",
        "model.add(Dense(512)) \n",
        "model.add(BatchNormalization())\n",
        "model.add(Activation('relu'))\n",
        "model.add(Dense(256)) \n",
        "model.add(BatchNormalization())\n",
        "model.add(Activation('relu'))\n",
        "model.add(Dense(128))\n",
        "model.add(BatchNormalization())\n",
        "model.add(Activation('relu'))\n",
        "model.add(Dense(64)) \n",
        "model.add(BatchNormalization())\n",
        "model.add(Activation('relu'))\n",
        "model.add(Dense(2))\n",
        "model.add(Dense(2, activation= 'softmax' )) \n",
        "\n",
        "lr = 0.01\n",
        "sgd = SGD(lr=lr, decay=1e-6, momentum=0.9, nesterov=True)\n"
      ],
      "execution_count": null,
      "outputs": []
    },
    {
      "cell_type": "markdown",
      "metadata": {
        "id": "kEuu8MD_Nprs"
      },
      "source": [
        "**Compile Model:**"
      ]
    },
    {
      "cell_type": "code",
      "metadata": {
        "id": "K9862MedNoiO"
      },
      "source": [
        "#model.load_weights('Train_fold_3weights_50.h5', by_name=True) ## if load weighs from .h5\n",
        "\n",
        "model.compile(loss= 'binary_crossentropy' , optimizer=sgd , metrics=[ 'accuracy' ])\n",
        "model.summary()"
      ],
      "execution_count": null,
      "outputs": []
    },
    {
      "cell_type": "markdown",
      "metadata": {
        "id": "Wz3KaFfhB1q4"
      },
      "source": [
        "# Plot model and save google drive"
      ]
    },
    {
      "cell_type": "code",
      "metadata": {
        "id": "Bpgxh4QReA3j"
      },
      "source": [
        "# Plot Model and save google drive (wait save)\n",
        "\n",
        "%cd \"/content/gdrive/My Drive/\"\n",
        "\n",
        "\n",
        "plot_model(model,  to_file=\"model.png\")\n",
        "display(Image('model.png'))\n",
        "\n"
      ],
      "execution_count": null,
      "outputs": []
    },
    {
      "cell_type": "markdown",
      "metadata": {
        "id": "p_g2r43qMUyn"
      },
      "source": [
        "**In order to make the most of our few training examples, we will \"augment\" them via a number of random transformations, so that our model would never see twice the exact same picture. This helps prevent overfitting and helps the model generalize better. Data Augmentation:**"
      ]
    },
    {
      "cell_type": "code",
      "metadata": {
        "id": "x-19aPnKBUgs"
      },
      "source": [
        "gen = ImageDataGenerator(rotation_range = 90) # Degree range for random rotations."
      ],
      "execution_count": null,
      "outputs": []
    },
    {
      "cell_type": "markdown",
      "metadata": {
        "id": "TZEon0HmL7LH"
      },
      "source": [
        "**A callback is a set of functions to be applied at given stages of the training procedure. You can use callbacks to get a view on internal states and statistics of the model during training. Building  Callbacks:**"
      ]
    },
    {
      "cell_type": "code",
      "metadata": {
        "id": "oDEWsemlB6PX"
      },
      "source": [
        "def get_callbacks(name_weights, patience_lr, name_csv):\n",
        "    mcp_save = ModelCheckpoint(name_weights)\n",
        "    csv_logger = CSVLogger(name_csv)\n",
        "    reduce_lr_loss = ReduceLROnPlateau(monitor='loss', factor=0.1, patience=patience_lr, verbose=1, epsilon=1e-4, mode='max')\n",
        "    return [csv_logger, reduce_lr_loss]# mcp_save\n",
        "  "
      ],
      "execution_count": null,
      "outputs": []
    },
    {
      "cell_type": "markdown",
      "metadata": {
        "id": "UxateFugL0vt"
      },
      "source": [
        "**Converts a class vector (integers) to binary class matrix:**"
      ]
    },
    {
      "cell_type": "code",
      "metadata": {
        "id": "qHGwe2X2b4n9"
      },
      "source": [
        "y_train = to_categorical(y_train)\n",
        "y_val = to_categorical(y_val)\n",
        "y_test = to_categorical(y_test)"
      ],
      "execution_count": null,
      "outputs": []
    },
    {
      "cell_type": "markdown",
      "metadata": {
        "id": "nAzYU72jB-ed"
      },
      "source": [
        "# Train\n",
        "\n",
        "Show graphics loss x epoch and acc x epoch"
      ]
    },
    {
      "cell_type": "code",
      "metadata": {
        "id": "KXqOAfGTIzJM",
        "colab": {
          "base_uri": "https://localhost:8080/",
          "height": 710
        },
        "outputId": "fdcbfaff-d74f-43be-bec3-259598ede0c8"
      },
      "source": [
        "\n",
        "batch_size=32\n",
        "start = time.perf_counter()\n",
        "\n",
        "# See https://www.tensorflow.org/tutorials/using_gpu#allowing_gpu_memory_growth\n",
        "# The first is the allow_growth option, which attempts to allocate only as much\n",
        "# GPU memory based on runtime allocations: it starts out allocating very little \n",
        "# memory, and as Sessions get run and more GPU memory is needed, we extend the GPU memory region needed by \n",
        "# the TensorFlow process. Note that we do not release memory, since that can lead \n",
        "# to even worse memory fragmentation. To turn this option on, set the option in the ConfigProto by:\n",
        "\n",
        "# config = tf.ConfigProto()\n",
        "# config.gpu_options.allow_growth = True\n",
        "\n",
        "# sess = tf.Session(config=config)\n",
        "\n",
        "# os.environ['CUDA_DEVICE_ORDER'] = 'PCI_BUS_ID'\n",
        "# os.environ['CUDA_VISIBLE_DEVICES'] = \"0\"\n",
        "\n",
        "name_weights = \"Train_model_weights_{epoch:02d}.h5\"\n",
        "csv_name = \"trainning_k.csv\"\n",
        "callbacks = get_callbacks(name_weights = name_weights, patience_lr=10, name_csv = csv_name)\n",
        "generator = gen.flow(x_train, y_train, batch_size = batch_size)\n",
        "# change epochs\n",
        "history = model.fit_generator(\n",
        "                  generator,\n",
        "                  steps_per_epoch=len(x_train)/batch_size,\n",
        "                  epochs=2,\n",
        "                  verbose=1,\n",
        "                  validation_data = (x_val, y_val),\n",
        "                  validation_steps = len(x_val),\n",
        "                  callbacks = callbacks)\n",
        "      \n",
        "      \n",
        "##### Plot training & validation accuracy values\n",
        "plt.figure()\n",
        "plt.plot(history.history['accuracy'])\n",
        "plt.plot(history.history['val_accuracy'])\n",
        "plt.title('Model accuracy ' )\n",
        "plt.ylabel('Accuracy')\n",
        "plt.xlabel('Epoch')\n",
        "plt.legend(['Train', 'Valid'], loc='upper left')\n",
        "plt.show()\n",
        "plt.savefig(\"AccxEpoch.png\")\n",
        "\n",
        "###### Plot training & validation loss values\n",
        "plt.figure()\n",
        "plt.plot(history.history['loss'])\n",
        "plt.plot(history.history['val_loss'])\n",
        "plt.title('Model loss ')\n",
        "plt.ylabel('Loss')\n",
        "plt.xlabel('Epoch')\n",
        "plt.legend(['Train', 'Valid'], loc='upper left')\n",
        "plt.show()\n",
        "plt.savefig(\"LossxEpoch.png\")\n",
        "\n",
        "\n",
        "# sess.close()\n",
        "\n",
        "elapsed = time.perf_counter() - start\n",
        "print('Elapsed %.3f seconds.' % elapsed)            "
      ],
      "execution_count": null,
      "outputs": [
        {
          "output_type": "stream",
          "text": [
            "WARNING:tensorflow:`epsilon` argument is deprecated and will be removed, use `min_delta` instead.\n",
            "Epoch 1/2\n",
            "375/375 [==============================] - 80s 214ms/step - loss: 0.4238 - accuracy: 0.8028 - val_loss: 0.5463 - val_accuracy: 0.7255\n",
            "Epoch 2/2\n",
            "375/375 [==============================] - 80s 214ms/step - loss: 0.4188 - accuracy: 0.8049 - val_loss: 0.6764 - val_accuracy: 0.6560\n"
          ],
          "name": "stdout"
        },
        {
          "output_type": "display_data",
          "data": {
            "image/png": "[encoded data removed]",
            "text/plain": [
              "<Figure size 432x288 with 1 Axes>"
            ]
          },
          "metadata": {
            "tags": [],
            "needs_background": "light"
          }
        },
        {
          "output_type": "display_data",
          "data": {
            "text/plain": [
              "<Figure size 432x288 with 0 Axes>"
            ]
          },
          "metadata": {
            "tags": []
          }
        },
        {
          "output_type": "display_data",
          "data": {
            "image/png": "[encoded data removed]",
            "text/plain": [
              "<Figure size 432x288 with 1 Axes>"
            ]
          },
          "metadata": {
            "tags": [],
            "needs_background": "light"
          }
        },
        {
          "output_type": "stream",
          "text": [
            "Elapsed 162.946 seconds.\n"
          ],
          "name": "stdout"
        },
        {
          "output_type": "display_data",
          "data": {
            "text/plain": [
              "<Figure size 432x288 with 0 Axes>"
            ]
          },
          "metadata": {
            "tags": []
          }
        }
      ]
    },
    {
      "cell_type": "code",
      "metadata": {
        "id": "IKWel_dGgZHY",
        "colab": {
          "base_uri": "https://localhost:8080/",
          "height": 340
        },
        "outputId": "9b26edc5-3b85-448f-e599-2929d8fd71e5"
      },
      "source": [
        "#print(model.evaluate(x_test, y_test)) \n",
        "      \n",
        "probs = model.predict_proba(x_test)\n",
        "######## keep probabilities for the positive outcome only\n",
        "probsp = probs[:, 1]\n",
        "######## calculate AUC\n",
        "auc = roc_auc_score(y_test[:,1], probsp)\n",
        "print('AUC: %.3f' % auc)\n",
        "\n",
        "      \n",
        "######## calculate roc curve\n",
        "fpr, tpr, thresholds = roc_curve(y_test[:,1], probsp)\n",
        "\n",
        "\n",
        "plt.figure()\n",
        "plt.plot([0, 1], [0, 1], 'k--') # k = color black\n",
        "plt.plot(fpr, tpr, label=\"AUC: %.3f\" % auc, color='C1', linewidth=3) # for color 'C'+str(j), for j[0 9]\n",
        "plt.legend(bbox_to_anchor=(0., 1.02, 1., .102), loc='lower left', ncol=2, mode=\"expand\", borderaxespad=0.)\n",
        "plt.title('ROC')\n",
        "plt.xlabel('false positive rate', fontsize=14)\n",
        "plt.ylabel('true positive rate', fontsize=14)\n",
        "    \n",
        "plt.show()\n",
        "plt.savefig(\"ROCLensDetectNet.png\")"
      ],
      "execution_count": null,
      "outputs": [
        {
          "output_type": "stream",
          "text": [
            "AUC: 0.826\n"
          ],
          "name": "stdout"
        },
        {
          "output_type": "display_data",
          "data": {
            "image/png": "[encoded data removed]",
            "text/plain": [
              "<Figure size 432x288 with 1 Axes>"
            ]
          },
          "metadata": {
            "tags": [],
            "needs_background": "light"
          }
        },
        {
          "output_type": "display_data",
          "data": {
            "text/plain": [
              "<Figure size 432x288 with 0 Axes>"
            ]
          },
          "metadata": {
            "tags": []
          }
        }
      ]
    },
    {
      "cell_type": "code",
      "metadata": {
        "id": "6ehhBhdwmnuF",
        "colab": {
          "base_uri": "https://localhost:8080/"
        },
        "outputId": "ab0b349d-71b0-4469-d22a-cf9594ab4d5a"
      },
      "source": [
        "# Final evaluation of the model\n",
        "scores = model.evaluate(x_test, y_test, verbose=0)\n",
        "print(\"Large CNN Error: %.2f%%\" % (100-scores[1]*100))"
      ],
      "execution_count": null,
      "outputs": [
        {
          "output_type": "stream",
          "text": [
            "Large CNN Error: 26.86%\n"
          ],
          "name": "stdout"
        }
      ]
    },
    {
      "cell_type": "code",
      "metadata": {
        "id": "MNlk3H8InU4L",
        "colab": {
          "base_uri": "https://localhost:8080/"
        },
        "outputId": "b741648c-42ee-4869-b477-99a31a340294"
      },
      "source": [
        "import matplotlib.pyplot as plt\n",
        "# Predict single images\n",
        "n_images = 8\n",
        "# Get images from test set\n",
        "test_images = x_test[:n_images]\n",
        "# Predicts\n",
        "# Use the model to predict the images class\n",
        "preds = list(model.predict_proba(test_images))\n",
        "# print(\"Large CNN Error: %.2f%%\" % (100-scores[1]*100))\n",
        "# Display\n",
        "vout = (0,255)\n",
        "for i in range(n_images):\n",
        "    output=np.where(preds[i]==preds[i].max())\n",
        "    print(\"Model prediction:\", output[0][0])\n",
        "    #print(y_test[:,1])\n",
        "    print(\"Real:\", np.uint8(y_test[i,1]))"
      ],
      "execution_count": null,
      "outputs": [
        {
          "output_type": "stream",
          "text": [
            "Model prediction: 0\n",
            "Real: 0\n",
            "Model prediction: 1\n",
            "Real: 1\n",
            "Model prediction: 0\n",
            "Real: 0\n",
            "Model prediction: 1\n",
            "Real: 1\n",
            "Model prediction: 0\n",
            "Real: 1\n",
            "Model prediction: 0\n",
            "Real: 0\n",
            "Model prediction: 0\n",
            "Real: 0\n",
            "Model prediction: 0\n",
            "Real: 0\n"
          ],
          "name": "stdout"
        }
      ]
    }
  ]
}
